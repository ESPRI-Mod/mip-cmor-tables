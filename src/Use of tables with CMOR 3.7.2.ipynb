{
 "cells": [
  {
   "cell_type": "markdown",
   "id": "2bf0fcdf-cb18-49ce-a932-e81108acd9a6",
   "metadata": {},
   "source": [
    "# Use of mip cmor tables with CMOR 3.7.2\n",
    "\n",
    "To use the mip cmor tables with CMOR 3.7.2 a minor change to the structure of the MIP tables is needed. A forthcoming micro update to CMOR will correct the need for this (possibly CMOR version 3.7.4 or 3.8.0).\n",
    "\n",
    "In the mean time the following procedure will create a 3.7.2 compatible version of the tables\n"
   ]
  },
  {
   "cell_type": "code",
   "execution_count": 17,
   "id": "3bcdb663-ab4a-4581-9f25-7d0fbb92b63d",
   "metadata": {},
   "outputs": [],
   "source": [
    "import json\n",
    "import glob\n",
    "import os\n",
    "import shutil"
   ]
  },
  {
   "cell_type": "code",
   "execution_count": 18,
   "id": "ee1f8a4e-44c3-480f-824a-7093480b2a87",
   "metadata": {},
   "outputs": [],
   "source": [
    "# get list of tables files\n",
    "tables = glob.glob('../Tables/*.json')"
   ]
  },
  {
   "cell_type": "code",
   "execution_count": 19,
   "id": "142f27cc-71f6-433c-be3d-17cb2c138239",
   "metadata": {},
   "outputs": [],
   "source": [
    "# files that are not mip tables\n",
    "reference_files = ['../Tables/MIP_coordinate.json', '../Tables/MIP_formula_terms.json', \n",
    "                   '../Tables/CMIP6Plus_CV.json', '../Tables/MIP_grids.json']"
   ]
  },
  {
   "cell_type": "code",
   "execution_count": 20,
   "id": "e1e65311-2307-4fe7-9155-7a532ea20ec8",
   "metadata": {},
   "outputs": [],
   "source": [
    "# Set up output directory and clear it if has anything in it\n",
    "output_directory = '../Tables_3.7.2'\n",
    "if os.path.exists(output_directory):\n",
    "    existing_files = glob.glob(output_directory + '/*')\n",
    "    for filename in existing_files:\n",
    "        if os.path.basename(filename).startswith('MIP_'):\n",
    "            os.unlink(filename)\n",
    "else:\n",
    "    os.mkdir(output_directory)\n"
   ]
  },
  {
   "cell_type": "code",
   "execution_count": 21,
   "id": "bf25b350-470c-4290-a827-3c51e41a0be2",
   "metadata": {},
   "outputs": [],
   "source": [
    "# For each table\n",
    "for table in tables:\n",
    "    # skip reference files\n",
    "    if table in reference_files:\n",
    "        continue\n",
    "        \n",
    "    # read JSON\n",
    "    with open(table, 'r') as fh:\n",
    "        table_data = json.load(fh)\n",
    "\n",
    "    # amend cmor version for compatibility check\n",
    "    table_data['Header']['cmor_version'] = '3.7.2'\n",
    "\n",
    "    # replace dimensions with space separated strings\n",
    "    for var_name, entry in table_data['variable_entry'].items():\n",
    "        entry['dimensions'] = ' '.join(entry['dimensions'])\n",
    "        entry['modeling_realm'] = ' '.join(entry['modeling_realm'])\n",
    "\n",
    "    # write out to output_directory\n",
    "    output_file = os.path.join(output_directory, 'MIP_{}.json'.format(table_data['Header']['table_id']))\n",
    "    with open(output_file, 'w') as fh:\n",
    "        json.dump(table_data, fh, sort_keys=True, indent=2)\n",
    "    \n",
    "    "
   ]
  },
  {
   "cell_type": "code",
   "execution_count": 22,
   "id": "58fc09bc-4779-4977-908e-0d5e661c9b4c",
   "metadata": {},
   "outputs": [
    {
     "data": {
      "text/plain": [
       "'../Tables/CMIP6Plus_CV.json'"
      ]
     },
     "execution_count": 22,
     "metadata": {},
     "output_type": "execute_result"
    }
   ],
   "source": [
    "table\n",
    "\n"
   ]
  },
  {
   "cell_type": "code",
   "execution_count": 23,
   "id": "9a8993aa-0292-4f9f-a905-5917b7c0f65e",
   "metadata": {},
   "outputs": [],
   "source": [
    "# grids_file also needs header update\n",
    "grid_file = '../Tables/MIP_grids.json'\n",
    "with open(grid_file, 'r') as fh:\n",
    "    grid_data = json.load(fh)\n",
    "\n",
    "# amend cmor version for compatibility check\n",
    "grid_data['Header']['cmor_version'] = '3.7.2'\n",
    "\n",
    "# write out to output_directory\n",
    "output_file = os.path.join(output_directory, 'MIP_{}.json'.format(grid_data['Header']['table_id']))\n",
    "with open(output_file, 'w') as fh:\n",
    "    json.dump(grid_data, fh, sort_keys=True, indent=2)"
   ]
  },
  {
   "cell_type": "code",
   "execution_count": 24,
   "id": "f85d1ef3-e074-43ee-ab58-0a1a3653183d",
   "metadata": {},
   "outputs": [],
   "source": [
    "# Copy over unaltered files\n",
    "for ancilfile in ['../MIP_coordinate.json', '../MIP_formula_terms.json']:\n",
    "    shutil.copy(ancilfile, output_directory)\n"
   ]
  },
  {
   "cell_type": "code",
   "execution_count": 25,
   "id": "5e39f966-763c-4533-aa41-e266a0412f81",
   "metadata": {},
   "outputs": [
    {
     "name": "stdout",
     "output_type": "stream",
     "text": [
      "CMIP6Plus_CV.json\tMIP_APfx.json\t\tMIP_LP6hrPt.json\n",
      "MIP_ACmon.json\t\tMIP_APmonClim.json\tMIP_LPday.json\n",
      "MIP_ACmonZ.json\t\tMIP_APmonClimLev.json\tMIP_LPfx.json\n",
      "MIP_AE1hr.json\t\tMIP_APmonDiurnal.json\tMIP_LPmon.json\n",
      "MIP_AE3hrPt.json\tMIP_APmon.json\t\tMIP_LPyr.json\n",
      "MIP_AE3hrPtLev.json\tMIP_APmonLev.json\tMIP_LPyrPt.json\n",
      "MIP_AE6hr.json\t\tMIP_APmonZ.json\t\tMIP_OBday.json\n",
      "MIP_AE6hrPt.json\tMIP_APsubhrPt.json\tMIP_OBmon.json\n",
      "MIP_AE6hrPtLev.json\tMIP_APsubhrPtLev.json\tMIP_OBmonLev.json\n",
      "MIP_AEday.json\t\tMIP_APsubhrPtSite.json\tMIP_OByr.json\n",
      "MIP_AEmon.json\t\tMIP_coordinate.json\tMIP_OByrLev.json\n",
      "MIP_AEmonLev.json\tMIP_formula_terms.json\tMIP_OP3hrPt.json\n",
      "MIP_AEmonZ.json\t\tMIP_GIAfx.json\t\tMIP_OPday.json\n",
      "MIP_AEsubhrPt.json\tMIP_GIAmon.json\t\tMIP_OPdec.json\n",
      "MIP_AEsubhrPtSite.json\tMIP_GIAyr.json\t\tMIP_OPdecLev.json\n",
      "MIP_AP1hr.json\t\tMIP_GIGfx.json\t\tMIP_OPdecZ.json\n",
      "MIP_AP1hrPt.json\tMIP_GIGmon.json\t\tMIP_OPfx.json\n",
      "MIP_AP3hr.json\t\tMIP_GIGyr.json\t\tMIP_OPmonClim.json\n",
      "MIP_AP3hrPt.json\tMIP_grids.json\t\tMIP_OPmonClimLev.json\n",
      "MIP_AP3hrPtLev.json\tMIP_LI3hrPt.json\tMIP_OPmon.json\n",
      "MIP_AP6hr.json\t\tMIP_LI6hrPt.json\tMIP_OPmonLev.json\n",
      "MIP_AP6hrPt.json\tMIP_LIday.json\t\tMIP_OPmonZ.json\n",
      "MIP_AP6hrPtLev.json\tMIP_LIfx.json\t\tMIP_OPyr.json\n",
      "MIP_AP6hrPtZ.json\tMIP_LImon.json\t\tMIP_OPyrLev.json\n",
      "MIP_APday.json\t\tMIP_LIsubhrPtSite.json\tMIP_SIday.json\n",
      "MIP_APdayLev.json\tMIP_LP3hr.json\t\tMIP_SImon.json\n",
      "MIP_APdayZ.json\t\tMIP_LP3hrPt.json\tMIP_SImonPt.json\n"
     ]
    }
   ],
   "source": [
    "!ls ../Tables\n"
   ]
  },
  {
   "cell_type": "code",
   "execution_count": null,
   "id": "4b6065f4-f25f-4476-923e-c4218bcb4ad6",
   "metadata": {},
   "outputs": [],
   "source": []
  },
  {
   "cell_type": "code",
   "execution_count": null,
   "id": "4354df17-5ddf-4044-8896-20f227a13f58",
   "metadata": {},
   "outputs": [],
   "source": []
  }
 ],
 "metadata": {
  "kernelspec": {
   "display_name": "Python 3 (ipykernel)",
   "language": "python",
   "name": "python3"
  },
  "language_info": {
   "codemirror_mode": {
    "name": "ipython",
    "version": 3
   },
   "file_extension": ".py",
   "mimetype": "text/x-python",
   "name": "python",
   "nbconvert_exporter": "python",
   "pygments_lexer": "ipython3",
   "version": "3.10.12"
  }
 },
 "nbformat": 4,
 "nbformat_minor": 5
}
